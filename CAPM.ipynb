{
 "cells": [
  {
   "cell_type": "markdown",
   "id": "50b949cf",
   "metadata": {},
   "source": [
    "# Capital asset pricing model\n",
    "\n",
    "### helps to calculate expected return of the stock\n",
    "\n",
    "\n",
    "#### The goal of the CAPM formula is to evaluate whether a stock is fairly valued when its risk and the time value of money are compared to its expected return."
   ]
  },
  {
   "cell_type": "markdown",
   "id": "7e232006",
   "metadata": {},
   "source": [
    "# Utils"
   ]
  },
  {
   "cell_type": "code",
   "execution_count": null,
   "id": "303a735e",
   "metadata": {},
   "outputs": [],
   "source": [
    "!pip install -U yfinance requests pandas fredapi"
   ]
  },
  {
   "cell_type": "code",
   "execution_count": 88,
   "id": "96700daa",
   "metadata": {},
   "outputs": [],
   "source": [
    "import yfinance as yf\n",
    "import pandas as pd\n",
    "import numpy as np\n",
    "import seaborn as sns\n",
    "import requests\n",
    "import io\n",
    "\n",
    "from fredapi import Fred\n",
    "from datetime import datetime, timedelta"
   ]
  },
  {
   "cell_type": "code",
   "execution_count": 179,
   "id": "6be5e4d3",
   "metadata": {},
   "outputs": [],
   "source": [
    "def three_month_yield_us_tresuries(start, end):\n",
    "    fred = Fred(api_key='')\n",
    "    return pd.DataFrame(fred.get_series('DGS3MO', observation_start=start, observation_end=end), columns=['value'])\n",
    "\n",
    "def capm(risk_free_rate, beta, expected_return):\n",
    "    return risk_free_rate + beta * (expected_return - risk_free_rate)"
   ]
  },
  {
   "cell_type": "markdown",
   "id": "49b43f92",
   "metadata": {},
   "source": [
    "# Inputs"
   ]
  },
  {
   "cell_type": "code",
   "execution_count": 220,
   "id": "39d9935f",
   "metadata": {},
   "outputs": [
    {
     "name": "stdout",
     "output_type": "stream",
     "text": [
      "Start date: 07/02/2017 End date: 06/02/2021\n"
     ]
    }
   ],
   "source": [
    "market = \"SPY\"\n",
    "stock = \"AAPL\"\n",
    "historical_data_years = 5\n",
    "tickers = [market, stock]\n",
    "\n",
    "start = datetime.now() - timedelta(days = 365 * historical_data_years)\n",
    "end = datetime.now() - timedelta(days = 365)\n",
    "print('Start date:', start.strftime(\"%d/%m/%Y\"), 'End date:', end.strftime(\"%d/%m/%Y\"))"
   ]
  },
  {
   "cell_type": "markdown",
   "id": "be53b3a2",
   "metadata": {},
   "source": [
    "# Stock and market price right now"
   ]
  },
  {
   "cell_type": "code",
   "execution_count": 221,
   "id": "6c837304",
   "metadata": {},
   "outputs": [
    {
     "name": "stdout",
     "output_type": "stream",
     "text": [
      "[*********************100%***********************]  2 of 2 completed\n",
      "Risk free rate: 0.013344500000000002\n",
      "Adj Close stock price now: {'SPY': 448.70001220703125, 'AAPL': 172.38999938964844}\n"
     ]
    }
   ],
   "source": [
    "live_prices = yf.download(tickers=tickers, period='1d', interval='1d')\n",
    "live_prices = [live_prices['Adj Close'][ticker][0] for ticker in tickers]\n",
    "\n",
    "print(\"Risk free rate:\", risk_free_rate)\n",
    "print(\"Adj Close stock price now:\", dict(zip(tickers, live_prices)))"
   ]
  },
  {
   "cell_type": "code",
   "execution_count": 222,
   "id": "04e30917",
   "metadata": {},
   "outputs": [
    {
     "name": "stdout",
     "output_type": "stream",
     "text": [
      "[*********************100%***********************]  1 of 1 completed\n",
      "[*********************100%***********************]  1 of 1 completed\n"
     ]
    },
    {
     "data": {
      "text/html": [
       "<style type=\"text/css\">\n",
       "</style>\n",
       "<table id=\"T_69017\">\n",
       "  <thead>\n",
       "    <tr>\n",
       "      <th class=\"blank level0\" >&nbsp;</th>\n",
       "      <th id=\"T_69017_level0_col0\" class=\"col_heading level0 col0\" >tickers</th>\n",
       "      <th id=\"T_69017_level0_col1\" class=\"col_heading level0 col1\" >starting_date</th>\n",
       "      <th id=\"T_69017_level0_col2\" class=\"col_heading level0 col2\" >observations(days)</th>\n",
       "      <th id=\"T_69017_level0_col3\" class=\"col_heading level0 col3\" >annual_return_avg</th>\n",
       "      <th id=\"T_69017_level0_col4\" class=\"col_heading level0 col4\" >daily_return_avg</th>\n",
       "      <th id=\"T_69017_level0_col5\" class=\"col_heading level0 col5\" >variance</th>\n",
       "      <th id=\"T_69017_level0_col6\" class=\"col_heading level0 col6\" >std</th>\n",
       "    </tr>\n",
       "  </thead>\n",
       "  <tbody>\n",
       "    <tr>\n",
       "      <th id=\"T_69017_level0_row0\" class=\"row_heading level0 row0\" >0</th>\n",
       "      <td id=\"T_69017_row0_col0\" class=\"data row0 col0\" >SPY</td>\n",
       "      <td id=\"T_69017_row0_col1\" class=\"data row0 col1\" >02/06/2017</td>\n",
       "      <td id=\"T_69017_row0_col2\" class=\"data row0 col2\" >1008</td>\n",
       "      <td id=\"T_69017_row0_col3\" class=\"data row0 col3\" >17.13%</td>\n",
       "      <td id=\"T_69017_row0_col4\" class=\"data row0 col4\" >0.07%</td>\n",
       "      <td id=\"T_69017_row0_col5\" class=\"data row0 col5\" >4.08%</td>\n",
       "      <td id=\"T_69017_row0_col6\" class=\"data row0 col6\" >20.20%</td>\n",
       "    </tr>\n",
       "    <tr>\n",
       "      <th id=\"T_69017_level0_row1\" class=\"row_heading level0 row1\" >1</th>\n",
       "      <td id=\"T_69017_row1_col0\" class=\"data row1 col0\" >AAPL</td>\n",
       "      <td id=\"T_69017_row1_col1\" class=\"data row1 col1\" >02/06/2017</td>\n",
       "      <td id=\"T_69017_row1_col2\" class=\"data row1 col2\" >1008</td>\n",
       "      <td id=\"T_69017_row1_col3\" class=\"data row1 col3\" >42.43%</td>\n",
       "      <td id=\"T_69017_row1_col4\" class=\"data row1 col4\" >0.17%</td>\n",
       "      <td id=\"T_69017_row1_col5\" class=\"data row1 col5\" >10.20%</td>\n",
       "      <td id=\"T_69017_row1_col6\" class=\"data row1 col6\" >31.93%</td>\n",
       "    </tr>\n",
       "  </tbody>\n",
       "</table>\n"
      ],
      "text/plain": [
       "<pandas.io.formats.style.Styler at 0x122fa2190>"
      ]
     },
     "execution_count": 222,
     "metadata": {},
     "output_type": "execute_result"
    },
    {
     "data": {
      "image/png": "[encoded data removed]",
      "text/plain": [
       "<Figure size 1152x576 with 1 Axes>"
      ]
     },
     "metadata": {},
     "output_type": "display_data"
    }
   ],
   "source": [
    "stock_info = {\n",
    "    'tickers': tickers, \n",
    "    'starting_date': [], \n",
    "    'observations(days)': [], \n",
    "    'annual_return_avg': [], \n",
    "    'daily_return_avg': [], \n",
    "    'variance': [],\n",
    "}\n",
    "price_hist = {}\n",
    "\n",
    "sns.set(rc = {'figure.figsize': (16,8)})\n",
    "\n",
    "for ticker in tickers:\n",
    "    tmp = yf.download(ticker, start=start, end=end)\n",
    "    tmp['daily_change'] = tmp['Adj Close'].pct_change()\n",
    "    stock_info['starting_date'].append(tmp.index[0])\n",
    "    stock_info['annual_return_avg'].append(tmp['daily_change'].mean() * 252)\n",
    "    stock_info['daily_return_avg'].append(tmp['daily_change'].mean())\n",
    "    stock_info['variance'].append(tmp['daily_change'].var() * 252)\n",
    "    stock_info['observations(days)'].append(len(tmp))\n",
    "    price_hist[ticker] = tmp['daily_change']\n",
    "    sns.lineplot(x=tmp.index, y='Adj Close', data=tmp, markers=True, label=ticker)\n",
    "    \n",
    "price_hist = pd.DataFrame.from_dict(price_hist)\n",
    "\n",
    "three_month_yield = three_month_yield_us_tresuries(start, end)\n",
    "risk_free_rate = three_month_yield['value'].mean() / 100\n",
    "\n",
    "df = pd.DataFrame.from_dict(stock_info)\n",
    "df['std'] = df['variance'].apply(np.sqrt)\n",
    "df['starting_date'] = df['starting_date'].dt.strftime('%m/%d/%Y')\n",
    "df.style.format({\n",
    "    'annual_return_avg': '{:,.2%}'.format,\n",
    "    'daily_return_avg': '{:,.2%}'.format,\n",
    "    'variance': '{:,.2%}'.format, \n",
    "    'std': '{:,.2%}'.format},\n",
    ")"
   ]
  },
  {
   "cell_type": "code",
   "execution_count": 223,
   "id": "aedb4d35",
   "metadata": {},
   "outputs": [
    {
     "data": {
      "text/html": [
       "<div>\n",
       "<style scoped>\n",
       "    .dataframe tbody tr th:only-of-type {\n",
       "        vertical-align: middle;\n",
       "    }\n",
       "\n",
       "    .dataframe tbody tr th {\n",
       "        vertical-align: top;\n",
       "    }\n",
       "\n",
       "    .dataframe thead th {\n",
       "        text-align: right;\n",
       "    }\n",
       "</style>\n",
       "<table border=\"1\" class=\"dataframe\">\n",
       "  <thead>\n",
       "    <tr style=\"text-align: right;\">\n",
       "      <th></th>\n",
       "      <th>SPY</th>\n",
       "      <th>AAPL</th>\n",
       "    </tr>\n",
       "    <tr>\n",
       "      <th>Date</th>\n",
       "      <th></th>\n",
       "      <th></th>\n",
       "    </tr>\n",
       "  </thead>\n",
       "  <tbody>\n",
       "    <tr>\n",
       "      <th>2017-02-06</th>\n",
       "      <td>NaN</td>\n",
       "      <td>NaN</td>\n",
       "    </tr>\n",
       "    <tr>\n",
       "      <th>2017-02-07</th>\n",
       "      <td>0.00</td>\n",
       "      <td>0.95</td>\n",
       "    </tr>\n",
       "    <tr>\n",
       "      <th>2017-02-08</th>\n",
       "      <td>0.13</td>\n",
       "      <td>0.39</td>\n",
       "    </tr>\n",
       "    <tr>\n",
       "      <th>2017-02-09</th>\n",
       "      <td>0.59</td>\n",
       "      <td>0.72</td>\n",
       "    </tr>\n",
       "    <tr>\n",
       "      <th>2017-02-10</th>\n",
       "      <td>0.39</td>\n",
       "      <td>-0.23</td>\n",
       "    </tr>\n",
       "    <tr>\n",
       "      <th>...</th>\n",
       "      <td>...</td>\n",
       "      <td>...</td>\n",
       "    </tr>\n",
       "    <tr>\n",
       "      <th>2021-02-01</th>\n",
       "      <td>1.66</td>\n",
       "      <td>1.65</td>\n",
       "    </tr>\n",
       "    <tr>\n",
       "      <th>2021-02-02</th>\n",
       "      <td>1.41</td>\n",
       "      <td>0.63</td>\n",
       "    </tr>\n",
       "    <tr>\n",
       "      <th>2021-02-03</th>\n",
       "      <td>0.08</td>\n",
       "      <td>-0.78</td>\n",
       "    </tr>\n",
       "    <tr>\n",
       "      <th>2021-02-04</th>\n",
       "      <td>1.14</td>\n",
       "      <td>2.58</td>\n",
       "    </tr>\n",
       "    <tr>\n",
       "      <th>2021-02-05</th>\n",
       "      <td>0.39</td>\n",
       "      <td>-0.31</td>\n",
       "    </tr>\n",
       "  </tbody>\n",
       "</table>\n",
       "<p>1008 rows × 2 columns</p>\n",
       "</div>"
      ],
      "text/plain": [
       "             SPY  AAPL\n",
       "Date                  \n",
       "2017-02-06   NaN   NaN\n",
       "2017-02-07  0.00  0.95\n",
       "2017-02-08  0.13  0.39\n",
       "2017-02-09  0.59  0.72\n",
       "2017-02-10  0.39 -0.23\n",
       "...          ...   ...\n",
       "2021-02-01  1.66  1.65\n",
       "2021-02-02  1.41  0.63\n",
       "2021-02-03  0.08 -0.78\n",
       "2021-02-04  1.14  2.58\n",
       "2021-02-05  0.39 -0.31\n",
       "\n",
       "[1008 rows x 2 columns]"
      ]
     },
     "execution_count": 223,
     "metadata": {},
     "output_type": "execute_result"
    }
   ],
   "source": [
    "expected_returns = (price_hist * 100).round(2)\n",
    "expected_returns"
   ]
  },
  {
   "cell_type": "markdown",
   "id": "c95e16c3",
   "metadata": {},
   "source": [
    "#### Beta might be considered as a slope of the line (k param) in line equation:\n",
    "$y = kx + b$"
   ]
  },
  {
   "cell_type": "code",
   "execution_count": 224,
   "id": "f3caf35a",
   "metadata": {},
   "outputs": [
    {
     "data": {
      "text/plain": [
       "1.221821524215263"
      ]
     },
     "execution_count": 224,
     "metadata": {},
     "output_type": "execute_result"
    }
   ],
   "source": [
    "beta = (price_hist.cov() / price_hist[market].var()).loc[stock, market]\n",
    "beta"
   ]
  },
  {
   "cell_type": "markdown",
   "id": "6cac05f3",
   "metadata": {},
   "source": [
    "## CAPM\n",
    "\n",
    "$ER_i=R_f+\\beta_i(ER_m-R_f)$, where\n",
    "\n",
    "- $ER_i$ - expected return of investment\n",
    "- $R_i$ - risk free rate\n",
    "- $B_i$ - beta of the investment\n",
    "- $(ER_m-R_f)$ - market risk premium "
   ]
  },
  {
   "cell_type": "code",
   "execution_count": 225,
   "id": "96ad3bcd",
   "metadata": {},
   "outputs": [
    {
     "name": "stdout",
     "output_type": "stream",
     "text": [
      "CAPM of stock: 0.20630146642671748\n",
      "Expected stock price in a year: 207.95430906103385\n"
     ]
    }
   ],
   "source": [
    "annual_return = df.where(df['tickers'] == market).dropna()['annual_return_avg'][0]\n",
    "CAPM_stock = capm(risk_free_rate, beta, annual_return)\n",
    "print(\"CAPM of stock:\", CAPM_stock)\n",
    "print(\"Expected stock price in a year:\", dict(zip(tickers, live_prices))[stock] * (1 + CAPM_stock))"
   ]
  },
  {
   "cell_type": "markdown",
   "id": "1a9820e9",
   "metadata": {},
   "source": [
    "# References\n",
    "\n",
    "- https://www.investopedia.com/terms/c/capm.asp\n",
    "\n",
    "- https://fred.stlouisfed.org/series/DGS3MO\n"
   ]
  }
 ],
 "metadata": {
  "kernelspec": {
   "display_name": "Python 3 (ipykernel)",
   "language": "python",
   "name": "python3"
  },
  "language_info": {
   "codemirror_mode": {
    "name": "ipython",
    "version": 3
   },
   "file_extension": ".py",
   "mimetype": "text/x-python",
   "name": "python",
   "nbconvert_exporter": "python",
   "pygments_lexer": "ipython3",
   "version": "3.9.7"
  }
 },
 "nbformat": 4,
 "nbformat_minor": 5
}
