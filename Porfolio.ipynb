{
 "cells": [
  {
   "cell_type": "code",
   "execution_count": null,
   "id": "9ef5d9f8-497d-4999-9284-55b6766aee9e",
   "metadata": {},
   "outputs": [],
   "source": [
    "!pip install -U quandl numpy pandas requests pandas-datareader DateTime yahoo_fin seaborn scipy numpy-financial"
   ]
  },
  {
   "cell_type": "code",
   "execution_count": 1,
   "id": "c55a782b-fe3a-46af-92da-209c30af7625",
   "metadata": {},
   "outputs": [],
   "source": [
    "import pandas as pd\n",
    "import numpy as np\n",
    "import datetime\n",
    "import seaborn as sns\n",
    "import matplotlib.pyplot as plt\n",
    "import random\n",
    "import numpy_financial as npf\n",
    "from statistics import NormalDist\n",
    "from scipy.optimize import minimize\n",
    "from scipy import stats\n",
    "from pandas_datareader import data, wb\n",
    "from yahoo_fin import stock_info as si\n",
    "from datetime import datetime, timedelta"
   ]
  },
  {
   "cell_type": "markdown",
   "id": "16ca1034-572f-498a-a8a3-4e98707efb06",
   "metadata": {},
   "source": [
    "# Utils"
   ]
  },
  {
   "cell_type": "code",
   "execution_count": 2,
   "id": "5bcb118d-226f-4100-8471-d6a8f615b8de",
   "metadata": {},
   "outputs": [],
   "source": [
    "def calculate_return(annual_return, weights):\n",
    "    return sum(annual_return * weights.T)\n",
    "\n",
    "def calculate_volatility(cov_metrix, weights):\n",
    "    portfolio_variance = np.dot(weights.T, np.dot(cov_metrix, weights))\n",
    "    #standard deviation (risk of portfolio)\n",
    "    portfolio_risk = np.sqrt(portfolio_variance)\n",
    "    return portfolio_risk\n",
    "\n",
    "def calculate_sharpe_ratio(p_return, p_risk):\n",
    "    return p_return / p_risk\n",
    "\n",
    "def neg_sharpe(weights, cov_matrix, annual_returns):\n",
    "    p_risk = calculate_volatility(cov_matrix, weights)\n",
    "    p_return = calculate_return(annual_returns, weights)\n",
    "    return calculate_sharpe_ratio(p_return, p_risk) * -1\n",
    "\n",
    "def simulate_portfolio_returns(years, annual_payment, initial_investment, p_return, p_risk):\n",
    "    portfolio_distribution = NormalDist(mu=p_return, sigma=p_risk)\n",
    "    r_0 = portfolio_distribution.inv_cdf(random.random())\n",
    "    d = {\n",
    "        \"investment\": [initial_investment],\n",
    "        \"return\": [portfolio_distribution.inv_cdf(random.random())],\n",
    "        \"balance\": [initial_investment + initial_investment * r_0],\n",
    "    }\n",
    "    for year in range(years):\n",
    "        investement = d[\"balance\"][len(d[\"balance\"]) - 1] + annual_payment\n",
    "        return_this_year = portfolio_distribution.inv_cdf(random.random())\n",
    "        balance = investement + investement * return_this_year\n",
    "        d[\"investment\"].append(d[\"investment\"][len(d[\"investment\"]) - 1] + annual_payment)\n",
    "        d[\"return\"].append(return_this_year)\n",
    "        d[\"balance\"].append(balance)\n",
    "    return pd.DataFrame.from_dict(d)\n",
    "\n",
    "def simulate_ending_balances(n, years, annual_payment, initial_investment, p_return, p_risk):\n",
    "    result = []\n",
    "    for i in range(n):\n",
    "        returns = simulate_portfolio_returns(years, annual_payment, initial_investment, p_return, p_risk)\n",
    "        ending_balance = returns.iloc[-1:][\"balance\"]\n",
    "        result.append(float(ending_balance))\n",
    "    return np.array(result)\n",
    "\n",
    "def generate_portfolios(tickers, cov_metrix, annual_returns, num_portfolios):\n",
    "    num_assets = len(tickers)\n",
    "    # values = [weights..., volatility, return, sharp_ratio]\n",
    "    values = []\n",
    "    for single_portfolio in range(num_portfolios):\n",
    "        row = []\n",
    "        weights = np.random.random(num_assets)\n",
    "        weights /= np.sum(weights)\n",
    "        row.extend(weights)\n",
    "        \n",
    "        p_risk = calculate_volatility(cov_metrix, weights)\n",
    "        p_return = calculate_return(annual_returns, weights)\n",
    "        \n",
    "        row.append(p_risk)\n",
    "        row.append(p_return)\n",
    "        row.append(calculate_sharpe_ratio(p_return, p_risk))\n",
    "        values.append(row)\n",
    "        \n",
    "    headers = tickers.copy()\n",
    "    headers.extend(['risk', 'return', 'sharpe_ratio'])\n",
    "    return pd.DataFrame(values, columns=headers)\n",
    "\n",
    "def get_best_portfolio_optimized(tickers, cov_matrix, annual_returns, fn, method, constraints, bounds):\n",
    "    opt_results = minimize(\n",
    "        fn, \n",
    "        init_guess,\n",
    "        method=method,\n",
    "        bounds=bounds, \n",
    "        constraints=constraints,\n",
    "        args=(cov_matrix, annual_returns),\n",
    "    )\n",
    "    opt_weights = opt_results.x\n",
    "    p_risk = calculate_volatility(cov_matrix, opt_weights)\n",
    "    p_return = calculate_return(annual_returns, opt_weights)\n",
    "    sharpe_ratio = calculate_sharpe_ratio(p_return, p_risk)\n",
    "    \n",
    "    row = list(opt_weights) + [p_risk, p_return, sharpe_ratio]\n",
    "    headers = tickers.copy()\n",
    "    headers.extend(['risk', 'return', 'sharp_ratio'])\n",
    "    return pd.DataFrame([row], columns=headers)"
   ]
  },
  {
   "cell_type": "markdown",
   "id": "ec411a23-57e6-41c1-8a44-70215df69b46",
   "metadata": {},
   "source": [
    "# Inputs"
   ]
  },
  {
   "cell_type": "code",
   "execution_count": 4,
   "id": "11ecfc69-1d97-4442-baa5-0c46417f4045",
   "metadata": {},
   "outputs": [],
   "source": [
    "# Portfolio inputs:\n",
    "tickers = ['IVV', 'GLD']\n",
    "asset_type = ['stock', 'commodity']\n",
    "live_prices = [si.get_live_price(ticker) for ticker in tickers]\n",
    "positions = [110, 200]\n",
    "\n",
    "# Get historical data for:\n",
    "historical_data_years = 10\n",
    "\n",
    "# Project portfolio for 30 years from now\n",
    "investment_years = 30\n",
    "annual_payment = 1000\n",
    "initial_investment = 10000\n",
    "t_bills_30 = 0.02027\n",
    "\n",
    "simulations_number = 100000\n",
    "np.random.seed(123)"
   ]
  },
  {
   "cell_type": "markdown",
   "id": "e7bf39b3-1320-4cd6-9f7c-3f19aeebb7be",
   "metadata": {},
   "source": [
    "# Basic info"
   ]
  },
  {
   "cell_type": "code",
   "execution_count": 5,
   "id": "e8c047ba-2d6c-49ea-ad7e-fec4ae9c5ca5",
   "metadata": {},
   "outputs": [
    {
     "data": {
      "text/html": [
       "<style type=\"text/css\">\n",
       "</style>\n",
       "<table id=\"T_e04d9_\">\n",
       "  <thead>\n",
       "    <tr>\n",
       "      <th class=\"blank level0\" >&nbsp;</th>\n",
       "      <th class=\"col_heading level0 col0\" >tickers</th>\n",
       "      <th class=\"col_heading level0 col1\" >asset_type</th>\n",
       "      <th class=\"col_heading level0 col2\" >live_prices</th>\n",
       "      <th class=\"col_heading level0 col3\" >positions</th>\n",
       "      <th class=\"col_heading level0 col4\" >value</th>\n",
       "      <th class=\"col_heading level0 col5\" >weight</th>\n",
       "    </tr>\n",
       "  </thead>\n",
       "  <tbody>\n",
       "    <tr>\n",
       "      <th id=\"T_e04d9_level0_row0\" class=\"row_heading level0 row0\" >0</th>\n",
       "      <td id=\"T_e04d9_row0_col0\" class=\"data row0 col0\" >IVV</td>\n",
       "      <td id=\"T_e04d9_row0_col1\" class=\"data row0 col1\" >stock</td>\n",
       "      <td id=\"T_e04d9_row0_col2\" class=\"data row0 col2\" >452.14</td>\n",
       "      <td id=\"T_e04d9_row0_col3\" class=\"data row0 col3\" >110</td>\n",
       "      <td id=\"T_e04d9_row0_col4\" class=\"data row0 col4\" >49,735.40</td>\n",
       "      <td id=\"T_e04d9_row0_col5\" class=\"data row0 col5\" >60.04%</td>\n",
       "    </tr>\n",
       "    <tr>\n",
       "      <th id=\"T_e04d9_level0_row1\" class=\"row_heading level0 row1\" >1</th>\n",
       "      <td id=\"T_e04d9_row1_col0\" class=\"data row1 col0\" >GLD</td>\n",
       "      <td id=\"T_e04d9_row1_col1\" class=\"data row1 col1\" >commodity</td>\n",
       "      <td id=\"T_e04d9_row1_col2\" class=\"data row1 col2\" >165.50</td>\n",
       "      <td id=\"T_e04d9_row1_col3\" class=\"data row1 col3\" >200</td>\n",
       "      <td id=\"T_e04d9_row1_col4\" class=\"data row1 col4\" >33,100.00</td>\n",
       "      <td id=\"T_e04d9_row1_col5\" class=\"data row1 col5\" >39.96%</td>\n",
       "    </tr>\n",
       "  </tbody>\n",
       "</table>\n"
      ],
      "text/plain": [
       "<pandas.io.formats.style.Styler at 0x16d474d90>"
      ]
     },
     "execution_count": 5,
     "metadata": {},
     "output_type": "execute_result"
    }
   ],
   "source": [
    "pf = pd.DataFrame.from_dict({'tickers': tickers, 'asset_type': asset_type, 'live_prices': live_prices, 'positions': positions})\n",
    "pf['value'] = pf['live_prices'] * pf['positions']\n",
    "pf['weight'] = pf['value'] / pf['value'].sum()\n",
    "pf.style.format({'live_prices': '{:,.2f}'.format, 'value': '{:,.2f}'.format, 'weight': '{:,.2%}'.format})"
   ]
  },
  {
   "cell_type": "code",
   "execution_count": 6,
   "id": "e3403ea1-ee54-4b08-802d-3370d76dbe04",
   "metadata": {},
   "outputs": [
    {
     "name": "stdout",
     "output_type": "stream",
     "text": [
      "Allocation by type:\n"
     ]
    },
    {
     "data": {
      "text/html": [
       "<style type=\"text/css\">\n",
       "</style>\n",
       "<table id=\"T_e17cb_\">\n",
       "  <thead>\n",
       "    <tr>\n",
       "      <th class=\"blank level0\" >&nbsp;</th>\n",
       "      <th class=\"col_heading level0 col0\" >weight</th>\n",
       "    </tr>\n",
       "    <tr>\n",
       "      <th class=\"index_name level0\" >asset_type</th>\n",
       "      <th class=\"blank col0\" >&nbsp;</th>\n",
       "    </tr>\n",
       "  </thead>\n",
       "  <tbody>\n",
       "    <tr>\n",
       "      <th id=\"T_e17cb_level0_row0\" class=\"row_heading level0 row0\" >commodity</th>\n",
       "      <td id=\"T_e17cb_row0_col0\" class=\"data row0 col0\" >39.96%</td>\n",
       "    </tr>\n",
       "    <tr>\n",
       "      <th id=\"T_e17cb_level0_row1\" class=\"row_heading level0 row1\" >stock</th>\n",
       "      <td id=\"T_e17cb_row1_col0\" class=\"data row1 col0\" >60.04%</td>\n",
       "    </tr>\n",
       "  </tbody>\n",
       "</table>\n"
      ],
      "text/plain": [
       "<pandas.io.formats.style.Styler at 0x11043a160>"
      ]
     },
     "execution_count": 6,
     "metadata": {},
     "output_type": "execute_result"
    }
   ],
   "source": [
    "print('Allocation by type:')\n",
    "pf.groupby(['asset_type']) \\\n",
    "    .sum().drop(columns=['live_prices', 'value', 'positions']) \\\n",
    "    .style.format({'weight': '{:,.2%}'.format})"
   ]
  },
  {
   "cell_type": "markdown",
   "id": "285d5698-a9af-494e-8875-db90255ad1c5",
   "metadata": {},
   "source": [
    "# Historical data"
   ]
  },
  {
   "cell_type": "code",
   "execution_count": 7,
   "id": "77ab7b9d-45a1-4982-8303-f90f01317e8b",
   "metadata": {},
   "outputs": [
    {
     "name": "stdout",
     "output_type": "stream",
     "text": [
      "Start date: 22/10/2011 End date: 19/10/2021\n"
     ]
    }
   ],
   "source": [
    "start = datetime.now() - timedelta(days = 365 * historical_data_years)\n",
    "end = datetime.now()\n",
    "print('Start date:', start.strftime(\"%d/%m/%Y\"), 'End date:', end.strftime(\"%d/%m/%Y\"))"
   ]
  },
  {
   "cell_type": "code",
   "execution_count": 8,
   "id": "f460c700-e304-4f66-bdc3-6263692e708c",
   "metadata": {},
   "outputs": [
    {
     "data": {
      "text/html": [
       "<style type=\"text/css\">\n",
       "</style>\n",
       "<table id=\"T_30196_\">\n",
       "  <thead>\n",
       "    <tr>\n",
       "      <th class=\"blank level0\" >&nbsp;</th>\n",
       "      <th class=\"col_heading level0 col0\" >tickers</th>\n",
       "      <th class=\"col_heading level0 col1\" >starting_date</th>\n",
       "      <th class=\"col_heading level0 col2\" >observations(days)</th>\n",
       "      <th class=\"col_heading level0 col3\" >annual_return</th>\n",
       "      <th class=\"col_heading level0 col4\" >variance</th>\n",
       "      <th class=\"col_heading level0 col5\" >std</th>\n",
       "    </tr>\n",
       "  </thead>\n",
       "  <tbody>\n",
       "    <tr>\n",
       "      <th id=\"T_30196_level0_row0\" class=\"row_heading level0 row0\" >0</th>\n",
       "      <td id=\"T_30196_row0_col0\" class=\"data row0 col0\" >IVV</td>\n",
       "      <td id=\"T_30196_row0_col1\" class=\"data row0 col1\" >10/24/2011</td>\n",
       "      <td id=\"T_30196_row0_col2\" class=\"data row0 col2\" >2513</td>\n",
       "      <td id=\"T_30196_row0_col3\" class=\"data row0 col3\" >14.15%</td>\n",
       "      <td id=\"T_30196_row0_col4\" class=\"data row0 col4\" >2.78%</td>\n",
       "      <td id=\"T_30196_row0_col5\" class=\"data row0 col5\" >16.67%</td>\n",
       "    </tr>\n",
       "    <tr>\n",
       "      <th id=\"T_30196_level0_row1\" class=\"row_heading level0 row1\" >1</th>\n",
       "      <td id=\"T_30196_row1_col0\" class=\"data row1 col0\" >GLD</td>\n",
       "      <td id=\"T_30196_row1_col1\" class=\"data row1 col1\" >10/24/2011</td>\n",
       "      <td id=\"T_30196_row1_col2\" class=\"data row1 col2\" >2513</td>\n",
       "      <td id=\"T_30196_row1_col3\" class=\"data row1 col3\" >1.42%</td>\n",
       "      <td id=\"T_30196_row1_col4\" class=\"data row1 col4\" >2.35%</td>\n",
       "      <td id=\"T_30196_row1_col5\" class=\"data row1 col5\" >15.33%</td>\n",
       "    </tr>\n",
       "  </tbody>\n",
       "</table>\n"
      ],
      "text/plain": [
       "<pandas.io.formats.style.Styler at 0x16d6278e0>"
      ]
     },
     "execution_count": 8,
     "metadata": {},
     "output_type": "execute_result"
    },
    {
     "data": {
      "image/png": "[encoded data removed]",
      "text/plain": [
       "<Figure size 1152x576 with 1 Axes>"
      ]
     },
     "metadata": {},
     "output_type": "display_data"
    }
   ],
   "source": [
    "stock_info = {'tickers': tickers, 'starting_date': [], 'observations(days)': [], 'annual_return': [], 'variance': []}\n",
    "price_hist = {}\n",
    "\n",
    "sns.set(rc = {'figure.figsize': (16,8)})\n",
    "\n",
    "for ticker in tickers:\n",
    "    tmp = si.get_data(ticker, start_date=start.strftime(\"%d/%m/%Y\"), end_date=end.strftime(\"%d/%m/%Y\"))\n",
    "    tmp['daily_change'] = tmp['close'].pct_change()\n",
    "    stock_info['starting_date'].append(tmp.index[0])\n",
    "    stock_info['annual_return'].append(tmp['daily_change'].mean() * 252)\n",
    "    stock_info['variance'].append(tmp['daily_change'].var() * 252)\n",
    "    stock_info['observations(days)'].append(len(tmp))\n",
    "    price_hist[ticker] = tmp['daily_change']\n",
    "    sns.lineplot(x=tmp.index, y='close', data=tmp, markers=True, label=ticker)\n",
    "    \n",
    "price_hist = pd.DataFrame.from_dict(price_hist)\n",
    "\n",
    "df = pd.DataFrame.from_dict(stock_info)\n",
    "df['std'] = df['variance'].apply(np.sqrt)\n",
    "df['starting_date'] = df['starting_date'].dt.strftime('%m/%d/%Y')\n",
    "df.style.format({'annual_return': '{:,.2%}'.format, 'variance': '{:,.2%}'.format, 'std': '{:,.2%}'.format})"
   ]
  },
  {
   "cell_type": "markdown",
   "id": "9d9be3ec-e641-4466-b798-14e6b93797f1",
   "metadata": {},
   "source": [
    "# Correlation"
   ]
  },
  {
   "cell_type": "code",
   "execution_count": 9,
   "id": "8c3e72c3-7007-46e5-9dae-e6c487a8957f",
   "metadata": {},
   "outputs": [
    {
     "data": {
      "text/plain": [
       "Text(0.5, 1.0, 'Portfolio Pearson correlation')"
      ]
     },
     "execution_count": 9,
     "metadata": {},
     "output_type": "execute_result"
    },
    {
     "data": {
      "image/png": "[encoded data removed]",
      "text/plain": [
       "<Figure size 720x576 with 2 Axes>"
      ]
     },
     "metadata": {},
     "output_type": "display_data"
    }
   ],
   "source": [
    "sns.set(rc = {'figure.figsize': (10, 8)})\n",
    "sns.heatmap(\n",
    "    price_hist.corr(method='pearson'), \n",
    "    annot=True, \n",
    "    square=True, \n",
    "    fmt=\".2%\", \n",
    "    cmap=sns.color_palette(\"coolwarm\", as_cmap=True),\n",
    "    vmin=-1, vmax=1\n",
    ").set_title('Portfolio Pearson correlation')"
   ]
  },
  {
   "cell_type": "markdown",
   "id": "690d3891-92f3-4c40-a0e3-ff5d8f0a2567",
   "metadata": {},
   "source": [
    "# Risk and Return"
   ]
  },
  {
   "cell_type": "code",
   "execution_count": 10,
   "id": "c7ca859c-de7e-4c20-8721-fc4e511aa5e5",
   "metadata": {},
   "outputs": [
    {
     "name": "stdout",
     "output_type": "stream",
     "text": [
      "Portfolio_return: 9.06% \n",
      "Portfolio_risk: 11.98% \n",
      "Sharpe ratio: 0.76\n"
     ]
    }
   ],
   "source": [
    "p_return = calculate_return(df['annual_return'].to_numpy(), pf['weight'].to_numpy())\n",
    "p_risk = calculate_volatility((price_hist.cov() * 252).to_numpy(), pf['weight'].to_numpy())\n",
    "print(\n",
    "    \"Portfolio_return:\", \"{0:.2f}%\".format(p_return * 100), \n",
    "    \"\\nPortfolio_risk:\", \"{0:.2f}%\".format(p_risk * 100),\n",
    "    \"\\nSharpe ratio:\", \"{0:.2f}\".format(calculate_sharpe_ratio(p_return, p_risk)),\n",
    ")"
   ]
  },
  {
   "cell_type": "markdown",
   "id": "8b99e9fb-d30c-46ab-af46-0d780ac522c7",
   "metadata": {},
   "source": [
    "# PV&FV + Confidence intervals"
   ]
  },
  {
   "cell_type": "code",
   "execution_count": 11,
   "id": "4662c878-a230-4028-97af-50482e44b5bc",
   "metadata": {},
   "outputs": [
    {
     "name": "stdout",
     "output_type": "stream",
     "text": [
      "Your total investment over 30 years is 40000\n",
      "\n",
      "EndingBalance_Mean(FV): 297173.25 \n",
      "EndingBalance_Mean(PV): 162763.20\n",
      "\n",
      "With confidence of [col_name_here] you'll end up with: \n"
     ]
    },
    {
     "data": {
      "text/html": [
       "<div>\n",
       "<style scoped>\n",
       "    .dataframe tbody tr th:only-of-type {\n",
       "        vertical-align: middle;\n",
       "    }\n",
       "\n",
       "    .dataframe tbody tr th {\n",
       "        vertical-align: top;\n",
       "    }\n",
       "\n",
       "    .dataframe thead th {\n",
       "        text-align: right;\n",
       "    }\n",
       "</style>\n",
       "<table border=\"1\" class=\"dataframe\">\n",
       "  <thead>\n",
       "    <tr style=\"text-align: right;\">\n",
       "      <th></th>\n",
       "      <th>99%</th>\n",
       "      <th>95%</th>\n",
       "      <th>90%</th>\n",
       "      <th>80%</th>\n",
       "      <th>50%</th>\n",
       "      <th>20%</th>\n",
       "    </tr>\n",
       "  </thead>\n",
       "  <tbody>\n",
       "    <tr>\n",
       "      <th>FV</th>\n",
       "      <td>78881.050710</td>\n",
       "      <td>110130.437031</td>\n",
       "      <td>132877.195234</td>\n",
       "      <td>166533.577095</td>\n",
       "      <td>258262.912409</td>\n",
       "      <td>402660.204083</td>\n",
       "    </tr>\n",
       "    <tr>\n",
       "      <th>PV</th>\n",
       "      <td>43203.524867</td>\n",
       "      <td>60318.961678</td>\n",
       "      <td>72777.468820</td>\n",
       "      <td>91211.228482</td>\n",
       "      <td>141451.819645</td>\n",
       "      <td>220538.899817</td>\n",
       "    </tr>\n",
       "  </tbody>\n",
       "</table>\n",
       "</div>"
      ],
      "text/plain": [
       "             99%            95%            90%            80%            50%  \\\n",
       "FV  78881.050710  110130.437031  132877.195234  166533.577095  258262.912409   \n",
       "PV  43203.524867   60318.961678   72777.468820   91211.228482  141451.819645   \n",
       "\n",
       "              20%  \n",
       "FV  402660.204083  \n",
       "PV  220538.899817  "
      ]
     },
     "execution_count": 11,
     "metadata": {},
     "output_type": "execute_result"
    }
   ],
   "source": [
    "ending_balances = simulate_ending_balances(\n",
    "    simulations_number, \n",
    "    investment_years, \n",
    "    annual_payment, \n",
    "    initial_investment, \n",
    "    p_return, \n",
    "    p_risk,\n",
    ")\n",
    "get_percentile_fv_and_pv = lambda balances, rate, years, percentile: [\n",
    "        np.percentile(balances, percentile), \n",
    "        npf.pv(rate, years, 0, fv=-np.percentile(balances, percentile))\n",
    "]\n",
    "\n",
    "print(\n",
    "    \"Your total investment over %d years is %d\" % \n",
    "    (investment_years, initial_investment + annual_payment * investment_years)\n",
    ")\n",
    "print(\n",
    "    \"\\nEndingBalance_Mean(FV):\", \"{0:.2f}\".format(ending_balances.mean()), \n",
    "    \"\\nEndingBalance_Mean(PV):\", \"{0:.2f}\".format(npf.pv(t_bills_30, investment_years, 0, fv=-ending_balances.mean())),\n",
    ")\n",
    "print(\"\\nWith confidence of [col_name_here] you'll end up with: \")\n",
    "pd.DataFrame.from_dict({\n",
    "    \"99%\": get_percentile_fv_and_pv(ending_balances, t_bills_30, investment_years, 1),\n",
    "    \"95%\": get_percentile_fv_and_pv(ending_balances, t_bills_30, investment_years, 5),\n",
    "    \"90%\": get_percentile_fv_and_pv(ending_balances, t_bills_30, investment_years, 10),\n",
    "    \"80%\": get_percentile_fv_and_pv(ending_balances, t_bills_30, investment_years, 20),\n",
    "    \"50%\": get_percentile_fv_and_pv(ending_balances, t_bills_30, investment_years, 50),\n",
    "    \"20%\": get_percentile_fv_and_pv(ending_balances, t_bills_30, investment_years, 80),\n",
    "}).set_index([pd.Index(['FV', 'PV'])])"
   ]
  },
  {
   "cell_type": "markdown",
   "id": "8db1ab81-c83b-4da9-abbd-c252fa0722bd",
   "metadata": {},
   "source": [
    "# Efficient Frontier"
   ]
  },
  {
   "cell_type": "markdown",
   "id": "37fc6c3e-aa52-4869-b734-4d936842116c",
   "metadata": {},
   "source": [
    "## Searching for best portfolio"
   ]
  },
  {
   "cell_type": "code",
   "execution_count": 12,
   "id": "072bd1b6-00fa-432a-985c-b1942f693e1c",
   "metadata": {},
   "outputs": [
    {
     "name": "stdout",
     "output_type": "stream",
     "text": [
      "Best portfolio:\n",
      "\n"
     ]
    },
    {
     "data": {
      "text/html": [
       "<div>\n",
       "<style scoped>\n",
       "    .dataframe tbody tr th:only-of-type {\n",
       "        vertical-align: middle;\n",
       "    }\n",
       "\n",
       "    .dataframe tbody tr th {\n",
       "        vertical-align: top;\n",
       "    }\n",
       "\n",
       "    .dataframe thead th {\n",
       "        text-align: right;\n",
       "    }\n",
       "</style>\n",
       "<table border=\"1\" class=\"dataframe\">\n",
       "  <thead>\n",
       "    <tr style=\"text-align: right;\">\n",
       "      <th></th>\n",
       "      <th>IVV</th>\n",
       "      <th>GLD</th>\n",
       "      <th>risk</th>\n",
       "      <th>return</th>\n",
       "      <th>sharpe_ratio</th>\n",
       "    </tr>\n",
       "  </thead>\n",
       "  <tbody>\n",
       "    <tr>\n",
       "      <th>22139</th>\n",
       "      <td>0.937</td>\n",
       "      <td>0.063</td>\n",
       "      <td>0.157</td>\n",
       "      <td>0.133</td>\n",
       "      <td>0.851</td>\n",
       "    </tr>\n",
       "  </tbody>\n",
       "</table>\n",
       "</div>"
      ],
      "text/plain": [
       "         IVV    GLD   risk  return  sharpe_ratio\n",
       "22139  0.937  0.063  0.157   0.133         0.851"
      ]
     },
     "execution_count": 12,
     "metadata": {},
     "output_type": "execute_result"
    }
   ],
   "source": [
    "rand_portfolios = generate_portfolios(\n",
    "    tickers, \n",
    "    (price_hist.cov() * 252).to_numpy(), \n",
    "    df['annual_return'].to_numpy(), \n",
    "    simulations_number,\n",
    ")\n",
    "best_portfolio = rand_portfolios.iloc[[rand_portfolios['sharpe_ratio'].argmax()]]\n",
    "print(\"Best portfolio:\\n\")\n",
    "pd.DataFrame(best_portfolio).round(decimals=3)"
   ]
  },
  {
   "cell_type": "markdown",
   "id": "0db354c8-b05a-4afd-9f6b-08c99e10b8e2",
   "metadata": {},
   "source": [
    "## Optimize by sharpe ratio"
   ]
  },
  {
   "cell_type": "code",
   "execution_count": 13,
   "id": "61c82d87-d6eb-4e85-a063-ec029cd8d185",
   "metadata": {},
   "outputs": [
    {
     "name": "stdout",
     "output_type": "stream",
     "text": [
      "Best portfolio optimized:\n",
      "\n"
     ]
    },
    {
     "data": {
      "text/html": [
       "<div>\n",
       "<style scoped>\n",
       "    .dataframe tbody tr th:only-of-type {\n",
       "        vertical-align: middle;\n",
       "    }\n",
       "\n",
       "    .dataframe tbody tr th {\n",
       "        vertical-align: top;\n",
       "    }\n",
       "\n",
       "    .dataframe thead th {\n",
       "        text-align: right;\n",
       "    }\n",
       "</style>\n",
       "<table border=\"1\" class=\"dataframe\">\n",
       "  <thead>\n",
       "    <tr style=\"text-align: right;\">\n",
       "      <th></th>\n",
       "      <th>IVV</th>\n",
       "      <th>GLD</th>\n",
       "      <th>risk</th>\n",
       "      <th>return</th>\n",
       "      <th>sharp_ratio</th>\n",
       "    </tr>\n",
       "  </thead>\n",
       "  <tbody>\n",
       "    <tr>\n",
       "      <th>0</th>\n",
       "      <td>0.937</td>\n",
       "      <td>0.063</td>\n",
       "      <td>0.157</td>\n",
       "      <td>0.133</td>\n",
       "      <td>0.851</td>\n",
       "    </tr>\n",
       "  </tbody>\n",
       "</table>\n",
       "</div>"
      ],
      "text/plain": [
       "     IVV    GLD   risk  return  sharp_ratio\n",
       "0  0.937  0.063  0.157   0.133        0.851"
      ]
     },
     "execution_count": 13,
     "metadata": {},
     "output_type": "execute_result"
    }
   ],
   "source": [
    "cons = ({'type': 'eq', 'fun': lambda weights: np.sum(weights)-1})\n",
    "bounds = [(0, 1) for ticker in tickers]\n",
    "init_guess = [0.25 for ticker in tickers]\n",
    "\n",
    "print(\"Best portfolio optimized:\\n\")\n",
    "best_portfolio_optimized = get_best_portfolio_optimized(\n",
    "    tickers, \n",
    "    (price_hist.cov() * 252).to_numpy(), \n",
    "    df['annual_return'].to_numpy(),\n",
    "    neg_sharpe,\n",
    "    'SLSQP',\n",
    "    cons,\n",
    "    bounds\n",
    ").round(decimals=3)\n",
    "best_portfolio_optimized"
   ]
  },
  {
   "cell_type": "code",
   "execution_count": 14,
   "id": "c692841d-d1a7-4629-bfbd-5666f40ffd99",
   "metadata": {},
   "outputs": [
    {
     "data": {
      "image/png": "[encoded data removed]",
      "text/plain": [
       "<Figure size 1080x576 with 2 Axes>"
      ]
     },
     "metadata": {},
     "output_type": "display_data"
    }
   ],
   "source": [
    "fig = plt.figure(figsize=(15,8))\n",
    "fig.suptitle('Efficient Frontier', fontsize=16)\n",
    "plt.scatter(rand_portfolios['risk'], rand_portfolios['return'], c=rand_portfolios['sharpe_ratio'], cmap='viridis')\n",
    "plt.colorbar(label='Sharpe Ratio')\n",
    "plt.xlabel('Risk')\n",
    "plt.ylabel('Return')\n",
    "plt.scatter(best_portfolio['risk'], best_portfolio['return'], c='red', s=50) # red dot\n",
    "plt.scatter(best_portfolio_optimized['risk'], best_portfolio_optimized['return'], c='red', s=100, marker='*') # red star\n",
    "plt.show()"
   ]
  },
  {
   "cell_type": "markdown",
   "id": "b6b2eecc-9bc0-46c3-82fc-070ee5239a87",
   "metadata": {},
   "source": [
    "# References\n",
    "https://codingandfun.com/portfolio-risk-and-returns-python/\n",
    "https://www.investopedia.com/ask/answers/041515/what-difference-between-variance-and-covariance.asp\n",
    "https://www.investopedia.com/terms/c/correlationcoefficient.asp\n",
    "https://www.investopedia.com/ask/answers/041315/how-covariance-used-portfolio-theory.asp\n",
    "https://towardsdatascience.com/how-to-construct-an-efficient-portfolio-using-the-modern-portfolio-theory-in-python-5c5ba2b0cff4\n",
    "https://medium.com/@luo9137/how-to-generate-these-popular-stock-terms-using-python-4e69c6acc6b3\n",
    "https://amangupta16.medium.com/portfolio-optimization-using-python-part-1-2-9fd80097a606\n",
    "https://medium.com/python-data/effient-frontier-in-python-34b0c3043314\n",
    "https://towardsdatascience.com/python-markowitz-optimization-b5e1623060f5"
   ]
  }
 ],
 "metadata": {
  "kernelspec": {
   "display_name": "Python 3 (ipykernel)",
   "language": "python",
   "name": "python3"
  },
  "language_info": {
   "codemirror_mode": {
    "name": "ipython",
    "version": 3
   },
   "file_extension": ".py",
   "mimetype": "text/x-python",
   "name": "python",
   "nbconvert_exporter": "python",
   "pygments_lexer": "ipython3",
   "version": "3.9.7"
  }
 },
 "nbformat": 4,
 "nbformat_minor": 5
}
